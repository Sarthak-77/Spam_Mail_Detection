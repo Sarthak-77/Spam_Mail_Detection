{
  "nbformat": 4,
  "nbformat_minor": 0,
  "metadata": {
    "colab": {
      "provenance": []
    },
    "kernelspec": {
      "name": "python3",
      "display_name": "Python 3"
    },
    "language_info": {
      "name": "python"
    }
  },
  "cells": [
    {
      "cell_type": "markdown",
      "source": [
        "# Related Work"
      ],
      "metadata": {
        "id": "vlUncnqaGGAm"
      }
    },
    {
      "cell_type": "markdown",
      "source": [
        "Spam detection has been a major area of research in text classification, evolving significantly over the years. Initially, rule-based approaches were common, where systems relied on predefined lists of keywords or regular expressions to filter spam emails.\n",
        "Naive Bayes classifiers became particularly popular because of their simplicity and effectiveness in handling text data.\n",
        "Another widely-used approach is Support Vector Machines (SVM), which has shown strong performance in text classification. SVM is capable of handling high-dimensional data and has been used successfully to distinguish between spam and non-spam messages."
      ],
      "metadata": {
        "id": "RMYbDH80GDXH"
      }
    },
    {
      "cell_type": "markdown",
      "source": [
        "# Data Pre-Processing"
      ],
      "metadata": {
        "id": "JOAzEPMmGpOg"
      }
    },
    {
      "cell_type": "code",
      "execution_count": 1,
      "metadata": {
        "colab": {
          "base_uri": "https://localhost:8080/"
        },
        "id": "kdM01VecEMtj",
        "outputId": "858c41eb-330f-430a-a32b-0e6da959a2d0"
      },
      "outputs": [
        {
          "output_type": "stream",
          "name": "stderr",
          "text": [
            "[nltk_data] Downloading package punkt to /root/nltk_data...\n",
            "[nltk_data]   Unzipping tokenizers/punkt.zip.\n",
            "[nltk_data] Downloading package stopwords to /root/nltk_data...\n",
            "[nltk_data]   Unzipping corpora/stopwords.zip.\n"
          ]
        },
        {
          "output_type": "execute_result",
          "data": {
            "text/plain": [
              "True"
            ]
          },
          "metadata": {},
          "execution_count": 1
        }
      ],
      "source": [
        "import pandas as pd\n",
        "import re\n",
        "import nltk\n",
        "from nltk.tokenize import word_tokenize\n",
        "from nltk.corpus import stopwords\n",
        "from nltk.stem import PorterStemmer\n",
        "import warnings\n",
        "\n",
        "nltk.download('punkt')\n",
        "nltk.download('stopwords')"
      ]
    },
    {
      "cell_type": "code",
      "source": [
        "file_path='/content/Spam_mails.csv'\n",
        "spam_data=pd.read_csv(file_path)\n"
      ],
      "metadata": {
        "id": "kYJUXEYfIEi5"
      },
      "execution_count": 2,
      "outputs": []
    },
    {
      "cell_type": "code",
      "source": [
        "spam_data.head()"
      ],
      "metadata": {
        "colab": {
          "base_uri": "https://localhost:8080/",
          "height": 355
        },
        "id": "Z8P-3jRRI7-B",
        "outputId": "c572f00b-1421-4324-b5c9-261d650bc18e"
      },
      "execution_count": 3,
      "outputs": [
        {
          "output_type": "execute_result",
          "data": {
            "text/plain": [
              "  Email No.  the  to  ect  and  for  of    a  you  hou  ...  connevey  jay  \\\n",
              "0   Email 1    0   0    1    0    0   0    2    0    0  ...         0    0   \n",
              "1   Email 2    8  13   24    6    6   2  102    1   27  ...         0    0   \n",
              "2   Email 3    0   0    1    0    0   0    8    0    0  ...         0    0   \n",
              "3   Email 4    0   5   22    0    5   1   51    2   10  ...         0    0   \n",
              "4   Email 5    7   6   17    1    5   2   57    0    9  ...         0    0   \n",
              "\n",
              "   valued  lay  infrastructure  military  allowing  ff  dry  Prediction  \n",
              "0       0    0               0         0         0   0    0           0  \n",
              "1       0    0               0         0         0   1    0           0  \n",
              "2       0    0               0         0         0   0    0           0  \n",
              "3       0    0               0         0         0   0    0           0  \n",
              "4       0    0               0         0         0   1    0           0  \n",
              "\n",
              "[5 rows x 3002 columns]"
            ],
            "text/html": [
              "\n",
              "  <div id=\"df-ccc85bfa-26ef-4351-943c-00f282db266f\" class=\"colab-df-container\">\n",
              "    <div>\n",
              "<style scoped>\n",
              "    .dataframe tbody tr th:only-of-type {\n",
              "        vertical-align: middle;\n",
              "    }\n",
              "\n",
              "    .dataframe tbody tr th {\n",
              "        vertical-align: top;\n",
              "    }\n",
              "\n",
              "    .dataframe thead th {\n",
              "        text-align: right;\n",
              "    }\n",
              "</style>\n",
              "<table border=\"1\" class=\"dataframe\">\n",
              "  <thead>\n",
              "    <tr style=\"text-align: right;\">\n",
              "      <th></th>\n",
              "      <th>Email No.</th>\n",
              "      <th>the</th>\n",
              "      <th>to</th>\n",
              "      <th>ect</th>\n",
              "      <th>and</th>\n",
              "      <th>for</th>\n",
              "      <th>of</th>\n",
              "      <th>a</th>\n",
              "      <th>you</th>\n",
              "      <th>hou</th>\n",
              "      <th>...</th>\n",
              "      <th>connevey</th>\n",
              "      <th>jay</th>\n",
              "      <th>valued</th>\n",
              "      <th>lay</th>\n",
              "      <th>infrastructure</th>\n",
              "      <th>military</th>\n",
              "      <th>allowing</th>\n",
              "      <th>ff</th>\n",
              "      <th>dry</th>\n",
              "      <th>Prediction</th>\n",
              "    </tr>\n",
              "  </thead>\n",
              "  <tbody>\n",
              "    <tr>\n",
              "      <th>0</th>\n",
              "      <td>Email 1</td>\n",
              "      <td>0</td>\n",
              "      <td>0</td>\n",
              "      <td>1</td>\n",
              "      <td>0</td>\n",
              "      <td>0</td>\n",
              "      <td>0</td>\n",
              "      <td>2</td>\n",
              "      <td>0</td>\n",
              "      <td>0</td>\n",
              "      <td>...</td>\n",
              "      <td>0</td>\n",
              "      <td>0</td>\n",
              "      <td>0</td>\n",
              "      <td>0</td>\n",
              "      <td>0</td>\n",
              "      <td>0</td>\n",
              "      <td>0</td>\n",
              "      <td>0</td>\n",
              "      <td>0</td>\n",
              "      <td>0</td>\n",
              "    </tr>\n",
              "    <tr>\n",
              "      <th>1</th>\n",
              "      <td>Email 2</td>\n",
              "      <td>8</td>\n",
              "      <td>13</td>\n",
              "      <td>24</td>\n",
              "      <td>6</td>\n",
              "      <td>6</td>\n",
              "      <td>2</td>\n",
              "      <td>102</td>\n",
              "      <td>1</td>\n",
              "      <td>27</td>\n",
              "      <td>...</td>\n",
              "      <td>0</td>\n",
              "      <td>0</td>\n",
              "      <td>0</td>\n",
              "      <td>0</td>\n",
              "      <td>0</td>\n",
              "      <td>0</td>\n",
              "      <td>0</td>\n",
              "      <td>1</td>\n",
              "      <td>0</td>\n",
              "      <td>0</td>\n",
              "    </tr>\n",
              "    <tr>\n",
              "      <th>2</th>\n",
              "      <td>Email 3</td>\n",
              "      <td>0</td>\n",
              "      <td>0</td>\n",
              "      <td>1</td>\n",
              "      <td>0</td>\n",
              "      <td>0</td>\n",
              "      <td>0</td>\n",
              "      <td>8</td>\n",
              "      <td>0</td>\n",
              "      <td>0</td>\n",
              "      <td>...</td>\n",
              "      <td>0</td>\n",
              "      <td>0</td>\n",
              "      <td>0</td>\n",
              "      <td>0</td>\n",
              "      <td>0</td>\n",
              "      <td>0</td>\n",
              "      <td>0</td>\n",
              "      <td>0</td>\n",
              "      <td>0</td>\n",
              "      <td>0</td>\n",
              "    </tr>\n",
              "    <tr>\n",
              "      <th>3</th>\n",
              "      <td>Email 4</td>\n",
              "      <td>0</td>\n",
              "      <td>5</td>\n",
              "      <td>22</td>\n",
              "      <td>0</td>\n",
              "      <td>5</td>\n",
              "      <td>1</td>\n",
              "      <td>51</td>\n",
              "      <td>2</td>\n",
              "      <td>10</td>\n",
              "      <td>...</td>\n",
              "      <td>0</td>\n",
              "      <td>0</td>\n",
              "      <td>0</td>\n",
              "      <td>0</td>\n",
              "      <td>0</td>\n",
              "      <td>0</td>\n",
              "      <td>0</td>\n",
              "      <td>0</td>\n",
              "      <td>0</td>\n",
              "      <td>0</td>\n",
              "    </tr>\n",
              "    <tr>\n",
              "      <th>4</th>\n",
              "      <td>Email 5</td>\n",
              "      <td>7</td>\n",
              "      <td>6</td>\n",
              "      <td>17</td>\n",
              "      <td>1</td>\n",
              "      <td>5</td>\n",
              "      <td>2</td>\n",
              "      <td>57</td>\n",
              "      <td>0</td>\n",
              "      <td>9</td>\n",
              "      <td>...</td>\n",
              "      <td>0</td>\n",
              "      <td>0</td>\n",
              "      <td>0</td>\n",
              "      <td>0</td>\n",
              "      <td>0</td>\n",
              "      <td>0</td>\n",
              "      <td>0</td>\n",
              "      <td>1</td>\n",
              "      <td>0</td>\n",
              "      <td>0</td>\n",
              "    </tr>\n",
              "  </tbody>\n",
              "</table>\n",
              "<p>5 rows × 3002 columns</p>\n",
              "</div>\n",
              "    <div class=\"colab-df-buttons\">\n",
              "\n",
              "  <div class=\"colab-df-container\">\n",
              "    <button class=\"colab-df-convert\" onclick=\"convertToInteractive('df-ccc85bfa-26ef-4351-943c-00f282db266f')\"\n",
              "            title=\"Convert this dataframe to an interactive table.\"\n",
              "            style=\"display:none;\">\n",
              "\n",
              "  <svg xmlns=\"http://www.w3.org/2000/svg\" height=\"24px\" viewBox=\"0 -960 960 960\">\n",
              "    <path d=\"M120-120v-720h720v720H120Zm60-500h600v-160H180v160Zm220 220h160v-160H400v160Zm0 220h160v-160H400v160ZM180-400h160v-160H180v160Zm440 0h160v-160H620v160ZM180-180h160v-160H180v160Zm440 0h160v-160H620v160Z\"/>\n",
              "  </svg>\n",
              "    </button>\n",
              "\n",
              "  <style>\n",
              "    .colab-df-container {\n",
              "      display:flex;\n",
              "      gap: 12px;\n",
              "    }\n",
              "\n",
              "    .colab-df-convert {\n",
              "      background-color: #E8F0FE;\n",
              "      border: none;\n",
              "      border-radius: 50%;\n",
              "      cursor: pointer;\n",
              "      display: none;\n",
              "      fill: #1967D2;\n",
              "      height: 32px;\n",
              "      padding: 0 0 0 0;\n",
              "      width: 32px;\n",
              "    }\n",
              "\n",
              "    .colab-df-convert:hover {\n",
              "      background-color: #E2EBFA;\n",
              "      box-shadow: 0px 1px 2px rgba(60, 64, 67, 0.3), 0px 1px 3px 1px rgba(60, 64, 67, 0.15);\n",
              "      fill: #174EA6;\n",
              "    }\n",
              "\n",
              "    .colab-df-buttons div {\n",
              "      margin-bottom: 4px;\n",
              "    }\n",
              "\n",
              "    [theme=dark] .colab-df-convert {\n",
              "      background-color: #3B4455;\n",
              "      fill: #D2E3FC;\n",
              "    }\n",
              "\n",
              "    [theme=dark] .colab-df-convert:hover {\n",
              "      background-color: #434B5C;\n",
              "      box-shadow: 0px 1px 3px 1px rgba(0, 0, 0, 0.15);\n",
              "      filter: drop-shadow(0px 1px 2px rgba(0, 0, 0, 0.3));\n",
              "      fill: #FFFFFF;\n",
              "    }\n",
              "  </style>\n",
              "\n",
              "    <script>\n",
              "      const buttonEl =\n",
              "        document.querySelector('#df-ccc85bfa-26ef-4351-943c-00f282db266f button.colab-df-convert');\n",
              "      buttonEl.style.display =\n",
              "        google.colab.kernel.accessAllowed ? 'block' : 'none';\n",
              "\n",
              "      async function convertToInteractive(key) {\n",
              "        const element = document.querySelector('#df-ccc85bfa-26ef-4351-943c-00f282db266f');\n",
              "        const dataTable =\n",
              "          await google.colab.kernel.invokeFunction('convertToInteractive',\n",
              "                                                    [key], {});\n",
              "        if (!dataTable) return;\n",
              "\n",
              "        const docLinkHtml = 'Like what you see? Visit the ' +\n",
              "          '<a target=\"_blank\" href=https://colab.research.google.com/notebooks/data_table.ipynb>data table notebook</a>'\n",
              "          + ' to learn more about interactive tables.';\n",
              "        element.innerHTML = '';\n",
              "        dataTable['output_type'] = 'display_data';\n",
              "        await google.colab.output.renderOutput(dataTable, element);\n",
              "        const docLink = document.createElement('div');\n",
              "        docLink.innerHTML = docLinkHtml;\n",
              "        element.appendChild(docLink);\n",
              "      }\n",
              "    </script>\n",
              "  </div>\n",
              "\n",
              "\n",
              "<div id=\"df-663d18b7-ffc1-4bbb-8ee0-0b65a17ebea5\">\n",
              "  <button class=\"colab-df-quickchart\" onclick=\"quickchart('df-663d18b7-ffc1-4bbb-8ee0-0b65a17ebea5')\"\n",
              "            title=\"Suggest charts\"\n",
              "            style=\"display:none;\">\n",
              "\n",
              "<svg xmlns=\"http://www.w3.org/2000/svg\" height=\"24px\"viewBox=\"0 0 24 24\"\n",
              "     width=\"24px\">\n",
              "    <g>\n",
              "        <path d=\"M19 3H5c-1.1 0-2 .9-2 2v14c0 1.1.9 2 2 2h14c1.1 0 2-.9 2-2V5c0-1.1-.9-2-2-2zM9 17H7v-7h2v7zm4 0h-2V7h2v10zm4 0h-2v-4h2v4z\"/>\n",
              "    </g>\n",
              "</svg>\n",
              "  </button>\n",
              "\n",
              "<style>\n",
              "  .colab-df-quickchart {\n",
              "      --bg-color: #E8F0FE;\n",
              "      --fill-color: #1967D2;\n",
              "      --hover-bg-color: #E2EBFA;\n",
              "      --hover-fill-color: #174EA6;\n",
              "      --disabled-fill-color: #AAA;\n",
              "      --disabled-bg-color: #DDD;\n",
              "  }\n",
              "\n",
              "  [theme=dark] .colab-df-quickchart {\n",
              "      --bg-color: #3B4455;\n",
              "      --fill-color: #D2E3FC;\n",
              "      --hover-bg-color: #434B5C;\n",
              "      --hover-fill-color: #FFFFFF;\n",
              "      --disabled-bg-color: #3B4455;\n",
              "      --disabled-fill-color: #666;\n",
              "  }\n",
              "\n",
              "  .colab-df-quickchart {\n",
              "    background-color: var(--bg-color);\n",
              "    border: none;\n",
              "    border-radius: 50%;\n",
              "    cursor: pointer;\n",
              "    display: none;\n",
              "    fill: var(--fill-color);\n",
              "    height: 32px;\n",
              "    padding: 0;\n",
              "    width: 32px;\n",
              "  }\n",
              "\n",
              "  .colab-df-quickchart:hover {\n",
              "    background-color: var(--hover-bg-color);\n",
              "    box-shadow: 0 1px 2px rgba(60, 64, 67, 0.3), 0 1px 3px 1px rgba(60, 64, 67, 0.15);\n",
              "    fill: var(--button-hover-fill-color);\n",
              "  }\n",
              "\n",
              "  .colab-df-quickchart-complete:disabled,\n",
              "  .colab-df-quickchart-complete:disabled:hover {\n",
              "    background-color: var(--disabled-bg-color);\n",
              "    fill: var(--disabled-fill-color);\n",
              "    box-shadow: none;\n",
              "  }\n",
              "\n",
              "  .colab-df-spinner {\n",
              "    border: 2px solid var(--fill-color);\n",
              "    border-color: transparent;\n",
              "    border-bottom-color: var(--fill-color);\n",
              "    animation:\n",
              "      spin 1s steps(1) infinite;\n",
              "  }\n",
              "\n",
              "  @keyframes spin {\n",
              "    0% {\n",
              "      border-color: transparent;\n",
              "      border-bottom-color: var(--fill-color);\n",
              "      border-left-color: var(--fill-color);\n",
              "    }\n",
              "    20% {\n",
              "      border-color: transparent;\n",
              "      border-left-color: var(--fill-color);\n",
              "      border-top-color: var(--fill-color);\n",
              "    }\n",
              "    30% {\n",
              "      border-color: transparent;\n",
              "      border-left-color: var(--fill-color);\n",
              "      border-top-color: var(--fill-color);\n",
              "      border-right-color: var(--fill-color);\n",
              "    }\n",
              "    40% {\n",
              "      border-color: transparent;\n",
              "      border-right-color: var(--fill-color);\n",
              "      border-top-color: var(--fill-color);\n",
              "    }\n",
              "    60% {\n",
              "      border-color: transparent;\n",
              "      border-right-color: var(--fill-color);\n",
              "    }\n",
              "    80% {\n",
              "      border-color: transparent;\n",
              "      border-right-color: var(--fill-color);\n",
              "      border-bottom-color: var(--fill-color);\n",
              "    }\n",
              "    90% {\n",
              "      border-color: transparent;\n",
              "      border-bottom-color: var(--fill-color);\n",
              "    }\n",
              "  }\n",
              "</style>\n",
              "\n",
              "  <script>\n",
              "    async function quickchart(key) {\n",
              "      const quickchartButtonEl =\n",
              "        document.querySelector('#' + key + ' button');\n",
              "      quickchartButtonEl.disabled = true;  // To prevent multiple clicks.\n",
              "      quickchartButtonEl.classList.add('colab-df-spinner');\n",
              "      try {\n",
              "        const charts = await google.colab.kernel.invokeFunction(\n",
              "            'suggestCharts', [key], {});\n",
              "      } catch (error) {\n",
              "        console.error('Error during call to suggestCharts:', error);\n",
              "      }\n",
              "      quickchartButtonEl.classList.remove('colab-df-spinner');\n",
              "      quickchartButtonEl.classList.add('colab-df-quickchart-complete');\n",
              "    }\n",
              "    (() => {\n",
              "      let quickchartButtonEl =\n",
              "        document.querySelector('#df-663d18b7-ffc1-4bbb-8ee0-0b65a17ebea5 button');\n",
              "      quickchartButtonEl.style.display =\n",
              "        google.colab.kernel.accessAllowed ? 'block' : 'none';\n",
              "    })();\n",
              "  </script>\n",
              "</div>\n",
              "\n",
              "    </div>\n",
              "  </div>\n"
            ],
            "application/vnd.google.colaboratory.intrinsic+json": {
              "type": "dataframe",
              "variable_name": "spam_data"
            }
          },
          "metadata": {},
          "execution_count": 3
        }
      ]
    },
    {
      "cell_type": "code",
      "source": [
        "spam_data.info()"
      ],
      "metadata": {
        "colab": {
          "base_uri": "https://localhost:8080/"
        },
        "id": "HLOEX6ISJVjV",
        "outputId": "02002af9-7471-475b-8593-438f949bd109"
      },
      "execution_count": 4,
      "outputs": [
        {
          "output_type": "stream",
          "name": "stdout",
          "text": [
            "<class 'pandas.core.frame.DataFrame'>\n",
            "RangeIndex: 5172 entries, 0 to 5171\n",
            "Columns: 3002 entries, Email No. to Prediction\n",
            "dtypes: int64(3001), object(1)\n",
            "memory usage: 118.5+ MB\n"
          ]
        }
      ]
    },
    {
      "cell_type": "code",
      "source": [
        "spam_data.isna().sum()"
      ],
      "metadata": {
        "colab": {
          "base_uri": "https://localhost:8080/",
          "height": 453
        },
        "id": "Hwj7uktmJh9Q",
        "outputId": "dcc8e791-d156-4e83-e83f-08a48456bf9d"
      },
      "execution_count": 5,
      "outputs": [
        {
          "output_type": "execute_result",
          "data": {
            "text/plain": [
              "Email No.     0\n",
              "the           0\n",
              "to            0\n",
              "ect           0\n",
              "and           0\n",
              "             ..\n",
              "military      0\n",
              "allowing      0\n",
              "ff            0\n",
              "dry           0\n",
              "Prediction    0\n",
              "Length: 3002, dtype: int64"
            ],
            "text/html": [
              "<div>\n",
              "<style scoped>\n",
              "    .dataframe tbody tr th:only-of-type {\n",
              "        vertical-align: middle;\n",
              "    }\n",
              "\n",
              "    .dataframe tbody tr th {\n",
              "        vertical-align: top;\n",
              "    }\n",
              "\n",
              "    .dataframe thead th {\n",
              "        text-align: right;\n",
              "    }\n",
              "</style>\n",
              "<table border=\"1\" class=\"dataframe\">\n",
              "  <thead>\n",
              "    <tr style=\"text-align: right;\">\n",
              "      <th></th>\n",
              "      <th>0</th>\n",
              "    </tr>\n",
              "  </thead>\n",
              "  <tbody>\n",
              "    <tr>\n",
              "      <th>Email No.</th>\n",
              "      <td>0</td>\n",
              "    </tr>\n",
              "    <tr>\n",
              "      <th>the</th>\n",
              "      <td>0</td>\n",
              "    </tr>\n",
              "    <tr>\n",
              "      <th>to</th>\n",
              "      <td>0</td>\n",
              "    </tr>\n",
              "    <tr>\n",
              "      <th>ect</th>\n",
              "      <td>0</td>\n",
              "    </tr>\n",
              "    <tr>\n",
              "      <th>and</th>\n",
              "      <td>0</td>\n",
              "    </tr>\n",
              "    <tr>\n",
              "      <th>...</th>\n",
              "      <td>...</td>\n",
              "    </tr>\n",
              "    <tr>\n",
              "      <th>military</th>\n",
              "      <td>0</td>\n",
              "    </tr>\n",
              "    <tr>\n",
              "      <th>allowing</th>\n",
              "      <td>0</td>\n",
              "    </tr>\n",
              "    <tr>\n",
              "      <th>ff</th>\n",
              "      <td>0</td>\n",
              "    </tr>\n",
              "    <tr>\n",
              "      <th>dry</th>\n",
              "      <td>0</td>\n",
              "    </tr>\n",
              "    <tr>\n",
              "      <th>Prediction</th>\n",
              "      <td>0</td>\n",
              "    </tr>\n",
              "  </tbody>\n",
              "</table>\n",
              "<p>3002 rows × 1 columns</p>\n",
              "</div><br><label><b>dtype:</b> int64</label>"
            ]
          },
          "metadata": {},
          "execution_count": 5
        }
      ]
    },
    {
      "cell_type": "code",
      "source": [
        "from sklearn.model_selection import train_test_split\n",
        "from sklearn.preprocessing import StandardScaler\n",
        "from imblearn.over_sampling import SMOTE\n",
        "\n",
        "# Step 1: Drop the 'Email No.' column\n",
        "spam_data_cleaned = spam_data.drop(columns=['Email No.'])\n",
        "\n",
        "# Step 2: Check for missing values\n",
        "print(\"Missing values per column:\")\n",
        "print(spam_data_cleaned.isnull().sum().sum())\n",
        "\n",
        "# No missing values observed in the dataset; no further action required\n",
        "\n",
        "# Step 3: Split features and target\n",
        "X = spam_data_cleaned.drop(columns=['Prediction'])\n",
        "y = spam_data_cleaned['Prediction']\n",
        "\n",
        "# Step 4: Normalize the features\n",
        "scaler = StandardScaler()\n",
        "X_scaled = scaler.fit_transform(X)\n",
        "\n",
        "# Step 5: Balance the dataset using SMOTE if it's imbalanced\n",
        "smote = SMOTE(random_state=42)\n",
        "X_resampled, y_resampled = smote.fit_resample(X_scaled, y)\n",
        "\n",
        "# Step 6: Split the dataset into training and test sets\n",
        "X_train, X_test, y_train, y_test = train_test_split(X_resampled, y_resampled, test_size=0.2, random_state=42)\n",
        "\n",
        "# Output summary\n",
        "print(f\"Training data size: {X_train.shape[0]} samples\")\n",
        "print(f\"Test data size: {X_test.shape[0]} samples\")\n"
      ],
      "metadata": {
        "colab": {
          "base_uri": "https://localhost:8080/"
        },
        "id": "sIDC7229ADD6",
        "outputId": "fb838273-02a8-4cd3-a2ec-c7be78790e72"
      },
      "execution_count": 6,
      "outputs": [
        {
          "output_type": "stream",
          "name": "stdout",
          "text": [
            "Missing values per column:\n",
            "0\n",
            "Training data size: 5875 samples\n",
            "Test data size: 1469 samples\n"
          ]
        }
      ]
    },
    {
      "cell_type": "code",
      "source": [
        "from sklearn.linear_model import LogisticRegression\n",
        "from sklearn.metrics import classification_report, confusion_matrix, accuracy_score\n",
        "import matplotlib.pyplot as plt\n",
        "import seaborn as sns\n",
        "\n",
        "# Step 1: Initialize the model\n",
        "model = LogisticRegression(random_state=42, max_iter=1000)\n",
        "\n",
        "# Step 2: Train the model\n",
        "model.fit(X_train, y_train)\n",
        "\n",
        "# Step 3: Make predictions\n",
        "y_pred = model.predict(X_test)\n",
        "\n",
        "# Step 4: Evaluate the model\n",
        "# Confusion Matrix\n",
        "conf_matrix = confusion_matrix(y_test, y_pred)\n",
        "plt.figure(figsize=(8, 6))\n",
        "sns.heatmap(conf_matrix, annot=True, fmt='d', cmap='Blues')\n",
        "plt.title(\"Confusion Matrix\")\n",
        "plt.xlabel(\"Predicted Label\")\n",
        "plt.ylabel(\"True Label\")\n",
        "plt.show()\n",
        "\n",
        "# Classification Report\n",
        "print(\"Classification Report:\")\n",
        "print(classification_report(y_test, y_pred))\n",
        "\n",
        "# Accuracy Score\n",
        "accuracy = accuracy_score(y_test, y_pred)\n",
        "print(f\"Accuracy Score: {accuracy:.2f}\")\n",
        "\n",
        "# Optional: Print feature importance for Logistic Regression\n",
        "if hasattr(model, 'coef_'):\n",
        "    feature_importance = pd.DataFrame({'Feature': X.columns, 'Importance': model.coef_[0]})\n",
        "    print(\"Top 10 Features by Importance:\")\n",
        "    print(feature_importance.sort_values(by='Importance', ascending=False).head(10))\n",
        "\n"
      ],
      "metadata": {
        "colab": {
          "base_uri": "https://localhost:8080/",
          "height": 955
        },
        "id": "cLwhjtYfA9aU",
        "outputId": "693ced25-86b8-49f3-d028-cef1efc900e8"
      },
      "execution_count": 7,
      "outputs": [
        {
          "output_type": "display_data",
          "data": {
            "text/plain": [
              "<Figure size 800x600 with 2 Axes>"
            ],
            "image/png": "[encoded data removed]"
          },
          "metadata": {}
        },
        {
          "output_type": "stream",
          "name": "stdout",
          "text": [
            "Classification Report:\n",
            "              precision    recall  f1-score   support\n",
            "\n",
            "           0       1.00      0.93      0.97       745\n",
            "           1       0.94      1.00      0.97       724\n",
            "\n",
            "    accuracy                           0.97      1469\n",
            "   macro avg       0.97      0.97      0.97      1469\n",
            "weighted avg       0.97      0.97      0.97      1469\n",
            "\n",
            "Accuracy Score: 0.97\n",
            "Top 10 Features by Importance:\n",
            "       Feature  Importance\n",
            "1688         z    0.523429\n",
            "773     remove    0.499601\n",
            "1727       gra    0.479419\n",
            "1469      seen    0.462501\n",
            "99        more    0.458043\n",
            "20        your    0.448980\n",
            "2937      porn    0.446153\n",
            "1092       sex    0.437002\n",
            "2618  campaign    0.424257\n",
            "2926       ooo    0.423441\n"
          ]
        }
      ]
    },
    {
      "cell_type": "markdown",
      "source": [
        "# Data Visualisation"
      ],
      "metadata": {
        "id": "ZV08ZSMdxhsd"
      }
    },
    {
      "cell_type": "code",
      "source": [
        "import matplotlib.pyplot as plt\n",
        "import seaborn as sns\n",
        "from sklearn.decomposition import PCA\n",
        "import pandas as pd # Import pandas for DataFrame operations\n",
        "from sklearn.impute import SimpleImputer  # Import SimpleImputer\n",
        "\n",
        "\n",
        "# Setting up the style for the plots\n",
        "sns.set(style=\"whitegrid\")\n",
        "\n",
        "# 1. Class Distribution Visualization\n",
        "def plot_class_distribution(data):\n",
        "    plt.figure(figsize=(6,4))\n",
        "    sns.countplot(x='Prediction', data=data, palette='viridis')\n",
        "    plt.title(\"Class Distribution of Spam vs Non-Spam Emails\")\n",
        "    plt.xlabel(\"Prediction (0 = Non-Spam, 1 = Spam)\")\n",
        "    plt.ylabel(\"Count\")\n",
        "    plt.show()\n",
        "\n",
        "# 2. Word Frequency in Spam and Non-Spam Emails\n",
        "def plot_word_frequencies(data, top_n=15):\n",
        "    # Separate spam and non-spam emails\n",
        "    spam_emails = data[data['Prediction'] == 1].drop(columns=['Email No.', 'Prediction'])\n",
        "    non_spam_emails = data[data['Prediction'] == 0].drop(columns=['Email No.', 'Prediction'])\n",
        "\n",
        "    # Calculate the sum of each word's occurrence in spam and non-spam emails\n",
        "    spam_word_freq = spam_emails.sum().sort_values(ascending=False).head(top_n)\n",
        "    non_spam_word_freq = non_spam_emails.sum().sort_values(ascending=False).head(top_n)\n",
        "\n",
        "    # Plotting\n",
        "    fig, axes = plt.subplots(1, 2, figsize=(14, 6))\n",
        "    sns.barplot(x=spam_word_freq.values, y=spam_word_freq.index, ax=axes[0], palette=\"rocket\")\n",
        "    axes[0].set_title(\"Top Words in Spam Emails\")\n",
        "    axes[0].set_xlabel(\"Frequency\")\n",
        "\n",
        "    sns.barplot(x=non_spam_word_freq.values, y=non_spam_word_freq.index, ax=axes[1], palette=\"viridis\")\n",
        "    axes[1].set_title(\"Top Words in Non-Spam Emails\")\n",
        "    axes[1].set_xlabel(\"Frequency\")\n",
        "\n",
        "    plt.tight_layout()\n",
        "    plt.show()\n",
        "\n",
        "# 3. Dimensionality Reduction Visualization\n",
        "def plot_pca(data, n_components=2):\n",
        "    features = data.drop(columns=['Email No.', 'Prediction'])\n",
        "    labels = data['Prediction']\n",
        "\n",
        "    # Impute missing values using SimpleImputer\n",
        "    imputer = SimpleImputer(strategy='mean') # or strategy='median', 'most_frequent'\n",
        "    features_imputed = imputer.fit_transform(features)\n",
        "\n",
        "    # PCA to reduce dimensions\n",
        "    pca = PCA(n_components=n_components)\n",
        "    pca_result = pca.fit_transform(features_imputed)  # Use imputed features\n",
        "\n",
        "    # Create a DataFrame for plotting\n",
        "    pca_df = pd.DataFrame(pca_result, columns=[f'PC{i+1}' for i in range(n_components)])\n",
        "    pca_df['Prediction'] = labels.values\n",
        "\n",
        "    plt.figure(figsize=(8, 6))\n",
        "    sns.scatterplot(x='PC1', y='PC2', hue='Prediction', data=pca_df, palette='viridis', alpha=0.7)\n",
        "    plt.title(\"PCA of Email Data\")\n",
        "    plt.xlabel(\"Principal Component 1\")\n",
        "    plt.ylabel(\"Principal Component 2\")\n",
        "    plt.legend(title=\"Prediction\", loc=\"best\")\n",
        "    plt.show()\n",
        "\n",
        "# Assuming 'spam_data' is your DataFrame\n",
        "import matplotlib.pyplot as plt\n",
        "import seaborn as sns\n",
        "from sklearn.decomposition import PCA\n",
        "import pandas as pd # Import pandas for DataFrame operations\n",
        "from sklearn.impute import SimpleImputer  # Import SimpleImputer\n",
        "\n",
        "\n",
        "# Setting up the style for the plots\n",
        "sns.set(style=\"whitegrid\")\n",
        "\n",
        "# 1. Class Distribution Visualization\n",
        "def plot_class_distribution(data):\n",
        "    plt.figure(figsize=(6,4))\n",
        "    sns.countplot(x='Prediction', data=data, palette='viridis')\n",
        "    plt.title(\"Class Distribution of Spam vs Non-Spam Emails\")\n",
        "    plt.xlabel(\"Prediction (0 = Non-Spam, 1 = Spam)\")\n",
        "    plt.ylabel(\"Count\")\n",
        "    plt.show()\n",
        "\n",
        "# 2. Word Frequency in Spam and Non-Spam Emails\n",
        "def plot_word_frequencies(data, top_n=15):\n",
        "    # Separate spam and non-spam emails\n",
        "    spam_emails = data[data['Prediction'] == 1].drop(columns=['Email No.', 'Prediction'])\n",
        "    non_spam_emails = data[data['Prediction'] == 0].drop(columns=['Email No.', 'Prediction'])\n",
        "\n",
        "    # Calculate the sum of each word's occurrence in spam and non-spam emails\n",
        "    spam_word_freq = spam_emails.sum().sort_values(ascending=False).head(top_n)\n",
        "    non_spam_word_freq = non_spam_emails.sum().sort_values(ascending=False).head(top_n)\n",
        "\n",
        "    # Plotting\n",
        "    fig, axes = plt.subplots(1, 2, figsize=(14, 6))\n",
        "    sns.barplot(x=spam_word_freq.values, y=spam_word_freq.index, ax=axes[0], palette=\"rocket\")\n",
        "    axes[0].set_title(\"Top Words in Spam Emails\")\n",
        "    axes[0].set_xlabel(\"Frequency\")\n",
        "\n",
        "    sns.barplot(x=non_spam_word_freq.values, y=non_spam_word_freq.index, ax=axes[1], palette=\"viridis\")\n",
        "    axes[1].set_title(\"Top Words in Non-Spam Emails\")\n",
        "    axes[1].set_xlabel(\"Frequency\")\n",
        "\n",
        "    plt.tight_layout()\n",
        "    plt.show()\n",
        "\n",
        "# 3. Dimensionality Reduction Visualization\n",
        "def plot_pca(data, n_components=2):\n",
        "    features = data.drop(columns=['Email No.', 'Prediction'])\n",
        "    labels = data['Prediction']\n",
        "\n",
        "    # Impute missing values using SimpleImputer\n",
        "    imputer = SimpleImputer(strategy='mean') # or strategy='median', 'most_frequent'\n",
        "    features_imputed = imputer.fit_transform(features)\n",
        "\n",
        "    # PCA to reduce dimensions\n",
        "    pca = PCA(n_components=n_components)\n",
        "    pca_result = pca.fit_transform(features_imputed)  # Use imputed features\n",
        "\n",
        "    # Create a DataFrame for plotting\n",
        "    pca_df = pd.DataFrame(pca_result, columns=[f'PC{i+1}' for i in range(n_components)])\n",
        "    pca_df['Prediction'] = labels.values\n",
        "\n",
        "    plt.figure(figsize=(8, 6))\n",
        "    sns.scatterplot(x='PC1', y='PC2', hue='Prediction', data=pca_df, palette='viridis', alpha=0.7)\n",
        "    plt.title(\"PCA of Email Data\")\n",
        "    plt.xlabel(\"Principal Component 1\")\n",
        "    plt.ylabel(\"Principal Component 2\")\n",
        "    plt.legend(title=\"Prediction\", loc=\"best\")\n",
        "    plt.show()\n",
        "\n",
        "# Assuming 'spam_data' is your DataFrame\n",
        "# Execute each visualization function, replacing 'data' with 'spam_data'\n",
        "plot_class_distribution(spam_data)  # Pass the spam_data DataFrame\n",
        "plot_word_frequencies(spam_data, top_n=15)\n",
        "plot_pca(spam_data)\n",
        "warnings.filterwarnings(\"ignore\")"
      ],
      "metadata": {
        "colab": {
          "base_uri": "https://localhost:8080/",
          "height": 1000
        },
        "id": "jjBde5kFq-2r",
        "outputId": "5eba0a67-8e02-4640-fddf-9034355b1453"
      },
      "execution_count": 8,
      "outputs": [
        {
          "output_type": "stream",
          "name": "stderr",
          "text": [
            "<ipython-input-8-33496f3cd9f8>:82: FutureWarning: \n",
            "\n",
            "Passing `palette` without assigning `hue` is deprecated and will be removed in v0.14.0. Assign the `x` variable to `hue` and set `legend=False` for the same effect.\n",
            "\n",
            "  sns.countplot(x='Prediction', data=data, palette='viridis')\n"
          ]
        },
        {
          "output_type": "display_data",
          "data": {
            "text/plain": [
              "<Figure size 600x400 with 1 Axes>"
            ],
            "image/png": "[encoded data removed]"
          },
          "metadata": {}
        },
        {
          "output_type": "stream",
          "name": "stderr",
          "text": [
            "<ipython-input-8-33496f3cd9f8>:100: FutureWarning: \n",
            "\n",
            "Passing `palette` without assigning `hue` is deprecated and will be removed in v0.14.0. Assign the `y` variable to `hue` and set `legend=False` for the same effect.\n",
            "\n",
            "  sns.barplot(x=spam_word_freq.values, y=spam_word_freq.index, ax=axes[0], palette=\"rocket\")\n",
            "<ipython-input-8-33496f3cd9f8>:104: FutureWarning: \n",
            "\n",
            "Passing `palette` without assigning `hue` is deprecated and will be removed in v0.14.0. Assign the `y` variable to `hue` and set `legend=False` for the same effect.\n",
            "\n",
            "  sns.barplot(x=non_spam_word_freq.values, y=non_spam_word_freq.index, ax=axes[1], palette=\"viridis\")\n"
          ]
        },
        {
          "output_type": "display_data",
          "data": {
            "text/plain": [
              "<Figure size 1400x600 with 2 Axes>"
            ],
            "image/png": "[encoded data removed]"
          },
          "metadata": {}
        },
        {
          "output_type": "display_data",
          "data": {
            "text/plain": [
              "<Figure size 800x600 with 1 Axes>"
            ],
            "image/png": "[encoded data removed]"
          },
          "metadata": {}
        }
      ]
    },
    {
      "cell_type": "markdown",
      "source": [],
      "metadata": {
        "id": "s-xCLnVpxVrs"
      }
    },
    {
      "cell_type": "markdown",
      "source": [
        "# Model Training"
      ],
      "metadata": {
        "id": "Vbfwf1bDxYGy"
      }
    },
    {
      "cell_type": "code",
      "source": [
        "# Import necessary libraries\n",
        "import pandas as pd\n",
        "from sklearn.model_selection import train_test_split\n",
        "from sklearn.ensemble import RandomForestClassifier\n",
        "from sklearn.metrics import accuracy_score, classification_report\n",
        "\n",
        "# Load the dataset\n",
        "data = pd.read_csv('/content/Spam_mails.csv')  # Replace with the path to your CSV file\n",
        "\n",
        "# Separate features and labels\n",
        "X = data.drop(columns=['Email No.', 'Prediction'])  # Adjust these column names if necessary\n",
        "y = data['Prediction']\n",
        "\n",
        "# Split the data into training and testing sets\n",
        "X_train, X_test, y_train, y_test = train_test_split(X, y, test_size=0.2, random_state=42)\n",
        "\n",
        "# Initialize the Random Forest Classifier\n",
        "model = RandomForestClassifier(n_estimators=100, random_state=42)\n",
        "\n",
        "# Train the model on the word count features\n",
        "model.fit(X_train, y_train)\n",
        "\n",
        "# Predict on the test set\n",
        "y_pred = model.predict(X_test)\n",
        "\n",
        "# Evaluate the model\n",
        "accuracy = accuracy_score(y_test, y_pred)\n",
        "report = classification_report(y_test, y_pred)\n",
        "\n",
        "print(f\"Accuracy fpr model 1: {accuracy * 100:.2f}%\")\n",
        "print(\"Classification Report:\\n\", report)\n"
      ],
      "metadata": {
        "colab": {
          "base_uri": "https://localhost:8080/"
        },
        "id": "9ImMVrxwxbvs",
        "outputId": "5d00fcb5-b24a-45fe-eba1-57c84753d218"
      },
      "execution_count": 9,
      "outputs": [
        {
          "output_type": "stream",
          "name": "stdout",
          "text": [
            "Accuracy: 97.78%\n",
            "Classification Report:\n",
            "               precision    recall  f1-score   support\n",
            "\n",
            "           0       0.99      0.98      0.98       739\n",
            "           1       0.96      0.96      0.96       296\n",
            "\n",
            "    accuracy                           0.98      1035\n",
            "   macro avg       0.97      0.97      0.97      1035\n",
            "weighted avg       0.98      0.98      0.98      1035\n",
            "\n"
          ]
        }
      ]
    },
    {
      "cell_type": "code",
      "source": [
        "# Import necessary libraries\n",
        "import pandas as pd\n",
        "from sklearn.model_selection import train_test_split\n",
        "from sklearn.ensemble import RandomForestClassifier\n",
        "from sklearn.metrics import accuracy_score, classification_report\n",
        "\n",
        "# Load the dataset\n",
        "data = pd.read_csv('/content/Spam_mails.csv')  # Replace with the path to your CSV file\n",
        "\n",
        "# Separate features and labels\n",
        "X = data.drop(columns=['Email No.', 'Prediction'])  # Adjust these column names if necessary\n",
        "y = data['Prediction']\n",
        "\n",
        "# Split the data into training and testing sets\n",
        "X_train, X_test, y_train, y_test = train_test_split(X, y, test_size=0.2, random_state=88)\n",
        "\n",
        "# Initialize the Random Forest Classifier\n",
        "model2 = RandomForestClassifier(n_estimators=100, random_state=88)\n",
        "\n",
        "# Train the model on the word count features\n",
        "model2.fit(X_train, y_train)\n",
        "\n",
        "# Predict on the test set\n",
        "y_pred = model2.predict(X_test)\n",
        "\n",
        "# Evaluate the model\n",
        "accuracy = accuracy_score(y_test, y_pred)\n",
        "report = classification_report(y_test, y_pred)\n",
        "\n",
        "print(f\"Accuracy for model 2: {accuracy * 100:.2f}%\")\n",
        "print(\"Classification Report:\\n\", report)\n"
      ],
      "metadata": {
        "colab": {
          "base_uri": "https://localhost:8080/"
        },
        "id": "cOXpoPyDzsSM",
        "outputId": "d8c99ac2-8310-4c65-8d06-9cecb14ecc52"
      },
      "execution_count": 12,
      "outputs": [
        {
          "output_type": "stream",
          "name": "stdout",
          "text": [
            "Accuracy for model 2: 97.29%\n",
            "Classification Report:\n",
            "               precision    recall  f1-score   support\n",
            "\n",
            "           0       0.98      0.98      0.98       724\n",
            "           1       0.96      0.95      0.95       311\n",
            "\n",
            "    accuracy                           0.97      1035\n",
            "   macro avg       0.97      0.97      0.97      1035\n",
            "weighted avg       0.97      0.97      0.97      1035\n",
            "\n"
          ]
        }
      ]
    },
    {
      "cell_type": "markdown",
      "source": [
        "As model 1 got more accuracy, we will be using model 1 for prediction purposes.\n"
      ],
      "metadata": {
        "id": "cksBXF0Gz_dK"
      }
    },
    {
      "cell_type": "markdown",
      "source": [
        "# Model Selection"
      ],
      "metadata": {
        "id": "ox9cEXiR0HLv"
      }
    },
    {
      "cell_type": "markdown",
      "source": [
        "Predicting the result using selected model."
      ],
      "metadata": {
        "id": "cSvBcqNk0V2l"
      }
    },
    {
      "cell_type": "code",
      "source": [
        "import pandas as pd\n",
        "from sklearn.feature_extraction.text import CountVectorizer\n",
        "import numpy as np\n",
        "\n",
        "# Load the dataset to get the feature list and retrain the model\n",
        "data = pd.read_csv('/content/Spam_mails.csv')\n",
        "X = data.drop(columns=['Email No.', 'Prediction'])\n",
        "y = data['Prediction']\n",
        "\n",
        "# Train the Random Forest Classifier as before\n",
        "from sklearn.ensemble import RandomForestClassifier\n",
        "model = RandomForestClassifier(n_estimators=100, random_state=42)\n",
        "model.fit(X, y)\n",
        "\n",
        "# Initialize CountVectorizer with training vocabulary\n",
        "vectorizer = CountVectorizer(vocabulary=X.columns)\n",
        "\n",
        "def predict_email(email_text):\n",
        "    # Step 1: Transform the input email text to word counts\n",
        "    email_counts = vectorizer.transform([email_text])\n",
        "    email_counts_df = pd.DataFrame(email_counts.toarray(), columns=X.columns)\n",
        "\n",
        "    # Step 2: Predict using the trained model\n",
        "    prediction = model.predict(email_counts_df)[0]\n",
        "\n",
        "    # Step 3: Return the prediction result\n",
        "    if prediction == 1:\n",
        "        return \"Spam\"\n",
        "    else:\n",
        "        return \"Not Spam\"\n",
        "\n",
        "# Example usage\n",
        "email_text = input(\"Enter the email sample: \")\n",
        "print(f\"Prediction: {predict_email(email_text)}\")\n"
      ],
      "metadata": {
        "colab": {
          "base_uri": "https://localhost:8080/"
        },
        "id": "Yr-b3jX2zA08",
        "outputId": "408e8289-579d-4322-b85f-ad7bdda44d1c"
      },
      "execution_count": 11,
      "outputs": [
        {
          "output_type": "stream",
          "name": "stdout",
          "text": [
            "Enter the email sample: Congratulations! You've won a contest.\n",
            "Prediction: Spam\n"
          ]
        }
      ]
    }
  ]
}